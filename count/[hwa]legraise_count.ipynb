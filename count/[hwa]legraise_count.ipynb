{
 "cells": [
  {
   "cell_type": "markdown",
   "metadata": {},
   "source": [
    "# 1. Install Package"
   ]
  },
  {
   "cell_type": "code",
   "execution_count": 1,
   "metadata": {},
   "outputs": [
    {
     "name": "stdout",
     "output_type": "stream",
     "text": [
      "Requirement already satisfied: mediapipe in /Users/hj/anaconda3/envs/myenv/lib/python3.8/site-packages (0.10.5)\n",
      "Requirement already satisfied: opencv-python in /Users/hj/anaconda3/envs/myenv/lib/python3.8/site-packages (4.8.0.76)\n",
      "Requirement already satisfied: absl-py in /Users/hj/anaconda3/envs/myenv/lib/python3.8/site-packages (from mediapipe) (1.4.0)\n",
      "Requirement already satisfied: attrs>=19.1.0 in /Users/hj/anaconda3/envs/myenv/lib/python3.8/site-packages (from mediapipe) (23.1.0)\n",
      "Requirement already satisfied: flatbuffers>=2.0 in /Users/hj/anaconda3/envs/myenv/lib/python3.8/site-packages (from mediapipe) (23.5.26)\n",
      "Requirement already satisfied: matplotlib in /Users/hj/anaconda3/envs/myenv/lib/python3.8/site-packages (from mediapipe) (3.7.3)\n",
      "Requirement already satisfied: numpy in /Users/hj/anaconda3/envs/myenv/lib/python3.8/site-packages (from mediapipe) (1.24.3)\n",
      "Requirement already satisfied: opencv-contrib-python in /Users/hj/anaconda3/envs/myenv/lib/python3.8/site-packages (from mediapipe) (4.8.0.76)\n",
      "Requirement already satisfied: protobuf<4,>=3.11 in /Users/hj/anaconda3/envs/myenv/lib/python3.8/site-packages (from mediapipe) (3.20.3)\n",
      "Requirement already satisfied: sounddevice>=0.4.4 in /Users/hj/anaconda3/envs/myenv/lib/python3.8/site-packages (from mediapipe) (0.4.6)\n",
      "Requirement already satisfied: CFFI>=1.0 in /Users/hj/anaconda3/envs/myenv/lib/python3.8/site-packages (from sounddevice>=0.4.4->mediapipe) (1.15.1)\n",
      "Requirement already satisfied: contourpy>=1.0.1 in /Users/hj/anaconda3/envs/myenv/lib/python3.8/site-packages (from matplotlib->mediapipe) (1.1.0)\n",
      "Requirement already satisfied: cycler>=0.10 in /Users/hj/anaconda3/envs/myenv/lib/python3.8/site-packages (from matplotlib->mediapipe) (0.11.0)\n",
      "Requirement already satisfied: fonttools>=4.22.0 in /Users/hj/anaconda3/envs/myenv/lib/python3.8/site-packages (from matplotlib->mediapipe) (4.42.1)\n",
      "Requirement already satisfied: kiwisolver>=1.0.1 in /Users/hj/anaconda3/envs/myenv/lib/python3.8/site-packages (from matplotlib->mediapipe) (1.4.5)\n",
      "Requirement already satisfied: packaging>=20.0 in /Users/hj/anaconda3/envs/myenv/lib/python3.8/site-packages (from matplotlib->mediapipe) (23.1)\n",
      "Requirement already satisfied: pillow>=6.2.0 in /Users/hj/anaconda3/envs/myenv/lib/python3.8/site-packages (from matplotlib->mediapipe) (10.0.1)\n",
      "Requirement already satisfied: pyparsing>=2.3.1 in /Users/hj/anaconda3/envs/myenv/lib/python3.8/site-packages (from matplotlib->mediapipe) (3.1.1)\n",
      "Requirement already satisfied: python-dateutil>=2.7 in /Users/hj/anaconda3/envs/myenv/lib/python3.8/site-packages (from matplotlib->mediapipe) (2.8.2)\n",
      "Requirement already satisfied: importlib-resources>=3.2.0 in /Users/hj/anaconda3/envs/myenv/lib/python3.8/site-packages (from matplotlib->mediapipe) (6.0.1)\n",
      "Requirement already satisfied: pycparser in /Users/hj/anaconda3/envs/myenv/lib/python3.8/site-packages (from CFFI>=1.0->sounddevice>=0.4.4->mediapipe) (2.21)\n",
      "Requirement already satisfied: zipp>=3.1.0 in /Users/hj/anaconda3/envs/myenv/lib/python3.8/site-packages (from importlib-resources>=3.2.0->matplotlib->mediapipe) (3.16.2)\n",
      "Requirement already satisfied: six>=1.5 in /Users/hj/anaconda3/envs/myenv/lib/python3.8/site-packages (from python-dateutil>=2.7->matplotlib->mediapipe) (1.16.0)\n"
     ]
    }
   ],
   "source": [
    "!pip install mediapipe opencv-python"
   ]
  },
  {
   "cell_type": "code",
   "execution_count": null,
   "metadata": {},
   "outputs": [],
   "source": [
    "# ! pip install mediapipe"
   ]
  },
  {
   "cell_type": "markdown",
   "metadata": {},
   "source": [
    "# 2. Import Package"
   ]
  },
  {
   "cell_type": "code",
   "execution_count": 2,
   "metadata": {},
   "outputs": [],
   "source": [
    "import cv2 # openCV 라이브러리 \n",
    "import mediapipe as mp\n",
    "import numpy as np\n",
    "mp_drawing = mp.solutions.drawing_utils # mediapipe에서 그림 그리기 관련 유틸리티 임포트\n",
    "mp_pose = mp.solutions.pose # 포즈 인식 모듈 임포트"
   ]
  },
  {
   "cell_type": "markdown",
   "metadata": {},
   "source": [
    "# 3. Calculate Angle"
   ]
  },
  {
   "cell_type": "code",
   "execution_count": 3,
   "metadata": {},
   "outputs": [],
   "source": [
    "def calculate_angle(a,b,c):\n",
    "    a = np.array(a) # First\n",
    "    b = np.array(b) # Mid\n",
    "    c = np.array(c) # End\n",
    "    \n",
    "    radians = np.arctan2(c[1]-b[1], c[0]-b[0]) - np.arctan2(a[1]-b[1], a[0]-b[0]) # 두 벡터 사이의 각도 구하기\n",
    "    angle = np.abs(radians*180.0/np.pi) # 라디안을 각도로 변환\n",
    "    \n",
    "    if angle >180.0: # 각도가 180보다 크면 보정 / 팔은 360도 회전 x\n",
    "        angle = 360-angle\n",
    "        \n",
    "    return angle "
   ]
  },
  {
   "cell_type": "code",
   "execution_count": 6,
   "metadata": {},
   "outputs": [
    {
     "ename": "KeyboardInterrupt",
     "evalue": "",
     "output_type": "error",
     "traceback": [
      "\u001b[0;31m---------------------------------------------------------------------------\u001b[0m",
      "\u001b[0;31mKeyboardInterrupt\u001b[0m                         Traceback (most recent call last)",
      "Cell \u001b[0;32mIn[6], line 12\u001b[0m\n\u001b[1;32m     10\u001b[0m \u001b[39mwith\u001b[39;00m mp_pose\u001b[39m.\u001b[39mPose(min_detection_confidence\u001b[39m=\u001b[39m\u001b[39m0.5\u001b[39m, min_tracking_confidence\u001b[39m=\u001b[39m\u001b[39m0.5\u001b[39m) \u001b[39mas\u001b[39;00m pose:\n\u001b[1;32m     11\u001b[0m     \u001b[39mwhile\u001b[39;00m cap\u001b[39m.\u001b[39misOpened():\n\u001b[0;32m---> 12\u001b[0m         ret, frame \u001b[39m=\u001b[39m cap\u001b[39m.\u001b[39;49mread()\n\u001b[1;32m     14\u001b[0m         \u001b[39m# 프레임이 비어있는 경우 무시하고 다음 프레임으로 진행\u001b[39;00m\n\u001b[1;32m     15\u001b[0m         \u001b[39mif\u001b[39;00m \u001b[39mnot\u001b[39;00m ret:\n",
      "\u001b[0;31mKeyboardInterrupt\u001b[0m: "
     ]
    },
    {
     "ename": "",
     "evalue": "",
     "output_type": "error",
     "traceback": [
      "\u001b[1;31mThe Kernel crashed while executing code in the the current cell or a previous cell. Please review the code in the cell(s) to identify a possible cause of the failure. Click <a href='https://aka.ms/vscodeJupyterKernelCrash'>here</a> for more info. View Jupyter <a href='command:jupyter.viewOutput'>log</a> for further details."
     ]
    }
   ],
   "source": [
    "mp_drawing = mp.solutions.drawing_utils\n",
    "mp_pose = mp.solutions.pose\n",
    "\n",
    "cap = cv2.VideoCapture(\"/Users/hj/Downloads/Lying Leg Raises.mp4\")\n",
    "\n",
    "count = 0\n",
    "stage = None\n",
    "\n",
    "## Setup mediapipe instance\n",
    "with mp_pose.Pose(min_detection_confidence=0.5, min_tracking_confidence=0.5) as pose:\n",
    "    while cap.isOpened():\n",
    "        ret, frame = cap.read()\n",
    "        \n",
    "        # 프레임이 비어있는 경우 무시하고 다음 프레임으로 진행\n",
    "        if not ret:\n",
    "            continue\n",
    "        \n",
    "        # Recolor image to RGB\n",
    "        image = cv2.cvtColor(frame, cv2.COLOR_BGR2RGB)\n",
    "        image.flags.writeable = False\n",
    "      \n",
    "        # Make detection\n",
    "        results = pose.process(image)\n",
    "    \n",
    "        # Recolor back to BGR\n",
    "        image.flags.writeable = True\n",
    "        image = cv2.cvtColor(image, cv2.COLOR_RGB2BGR)\n",
    "        \n",
    "        # Extract landmarks\n",
    "        try:\n",
    "            landmarks = results.pose_landmarks.landmark\n",
    "            \n",
    "            # Get coordinates\n",
    "            right_ankle = [landmarks[mp_pose.PoseLandmark.RIGHT_ANKLE.value].x, landmarks[mp_pose.PoseLandmark.RIGHT_ANKLE.value].y, landmarks[mp_pose.PoseLandmark.RIGHT_ANKLE.value].z]\n",
    "            right_shoulder = [landmarks[mp_pose.PoseLandmark.RIGHT_SHOULDER.value].x, landmarks[mp_pose.PoseLandmark.RIGHT_SHOULDER.value].y, landmarks[mp_pose.PoseLandmark.RIGHT_SHOULDER.value].z]\n",
    "            right_hip = [landmarks[mp_pose.PoseLandmark.RIGHT_HIP.value].x, landmarks[mp_pose.PoseLandmark.RIGHT_HIP.value].y, landmarks[mp_pose.PoseLandmark.RIGHT_HIP.value].z]\n",
    "            left_ankle = [landmarks[mp_pose.PoseLandmark.LEFT_ANKLE.value].x, landmarks[mp_pose.PoseLandmark.LEFT_ANKLE.value].y, landmarks[mp_pose.PoseLandmark.LEFT_ANKLE.value].z]\n",
    "            left_shoulder = [landmarks[mp_pose.PoseLandmark.LEFT_SHOULDER.value].x, landmarks[mp_pose.PoseLandmark.LEFT_SHOULDER.value].y, landmarks[mp_pose.PoseLandmark.LEFT_SHOULDER.value].z]\n",
    "            left_hip = [landmarks[mp_pose.PoseLandmark.LEFT_HIP.value].x, landmarks[mp_pose.PoseLandmark.LEFT_HIP.value].y, landmarks[mp_pose.PoseLandmark.LEFT_HIP.value].z]\n",
    "            \n",
    "            # 각도 계산\n",
    "            right_angle = calculate_angle(right_ankle, right_shoulder, right_hip)\n",
    "            \n",
    "            # 각도 계산\n",
    "            left_angle = calculate_angle(left_ankle, left_shoulder, left_hip)\n",
    "            \n",
    "            # # 이미지에 계산된 각도 시각화\n",
    "            # cv2.putText(image, str(right_angle), \n",
    "            #                tuple(np.multiply(elbow, [640, 480]).astype(int)), \n",
    "            #                cv2.FONT_HERSHEY_SIMPLEX, 0.5, (255, 255, 255), 2, cv2.LINE_AA\n",
    "            #                     )\n",
    "            \n",
    "            # # 이미지에 계산된 각도 시각화\n",
    "            # cv2.putText(image, str(left_angle), \n",
    "            #                tuple(np.multiply(elbow, [640, 480]).astype(int)), \n",
    "            #                cv2.FONT_HERSHEY_SIMPLEX, 0.5, (255, 255, 255), 2, cv2.LINE_AA\n",
    "            #                     )\n",
    "            \n",
    "            if right_angle > 30:\n",
    "                stage = \"up\"\n",
    "            if right_angle < 30 and stage =='up':\n",
    "                stage=\"down\"\n",
    "                count += 1\n",
    "                       \n",
    "        except:\n",
    "            pass\n",
    "        \n",
    "        # Render curl counter\n",
    "        # angle 표시\n",
    "        cv2.rectangle(image, (0,0), (225,73), (245,117,16), -1)      \n",
    "        \n",
    "        cv2.putText(image, str(count), \n",
    "                    (10,60), \n",
    "                    cv2.FONT_HERSHEY_SIMPLEX, 2, (255,255,255), 2, cv2.LINE_AA)  \n",
    "        \n",
    "        cv2.putText(image, stage, \n",
    "                    (60,60), \n",
    "                    cv2.FONT_HERSHEY_SIMPLEX, 2, (255,255,255), 2, cv2.LINE_AA)  \n",
    "        \n",
    "        # 검출된 포즈 랜드마크를 이미지에 시각화\n",
    "        mp_drawing.draw_landmarks(image, results.pose_landmarks, mp_pose.POSE_CONNECTIONS,\n",
    "                                mp_drawing.DrawingSpec(color=(245,117,66), thickness=2, circle_radius=2), \n",
    "                                mp_drawing.DrawingSpec(color=(245,66,230), thickness=2, circle_radius=2) \n",
    "                                 )               \n",
    "        \n",
    "        # 렌더링된 이미지를 Mediapipe Feed라는 창에 표시\n",
    "        cv2.imshow('Mediapipe Feed', image)\n",
    "\n",
    "        # 'q' 키를 누르면 루프 종료\n",
    "        if cv2.waitKey(10) & 0xFF == ord('q'):\n",
    "            break\n",
    "\n",
    "    cap.release()\n",
    "    cv2.destroyAllWindows()"
   ]
  },
  {
   "cell_type": "code",
   "execution_count": null,
   "metadata": {},
   "outputs": [],
   "source": []
  }
 ],
 "metadata": {
  "kernelspec": {
   "display_name": "DL",
   "language": "python",
   "name": "python3"
  },
  "language_info": {
   "codemirror_mode": {
    "name": "ipython",
    "version": 3
   },
   "file_extension": ".py",
   "mimetype": "text/x-python",
   "name": "python",
   "nbconvert_exporter": "python",
   "pygments_lexer": "ipython3",
   "version": "3.8.18"
  },
  "orig_nbformat": 4
 },
 "nbformat": 4,
 "nbformat_minor": 2
}
