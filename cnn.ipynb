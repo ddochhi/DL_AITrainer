{
 "cells": [
  {
   "cell_type": "code",
   "execution_count": 1,
   "metadata": {},
   "outputs": [],
   "source": [
    "import numpy as np\n",
    "import pandas as pd\n",
    "import os\n",
    "import warnings\n",
    "import cv2\n",
    "from tensorflow.keras.utils import to_categorical\n",
    "from PIL import Image\n",
    "import tensorflow as tf\n",
    "from tensorflow.keras import layers, models\n",
    "from keras.preprocessing.image import ImageDataGenerator\n",
    "from tensorflow.keras.optimizers import Adam\n",
    "from sklearn.metrics import confusion_matrix, classification_report\n",
    "import numpy as np\n",
    "import seaborn as sns\n",
    "import matplotlib.pyplot as plt\n",
    "\n",
    "warnings.filterwarnings('ignore')\n"
   ]
  },
  {
   "cell_type": "code",
   "execution_count": 2,
   "metadata": {},
   "outputs": [],
   "source": [
    "# image_dir = 'image'\n",
    "# max_width, max_height = 0, 0\n",
    "\n",
    "# for subdir, _, files in os.walk(image_dir):\n",
    "#     for file in files:\n",
    "#         if file.endswith(('png', 'jpg', 'jpeg')):  # 이미지 파일만 확인\n",
    "#             image_path = os.path.join(subdir, file)\n",
    "#             with Image.open(image_path) as img:\n",
    "#                 width, height = img.size\n",
    "#                 max_width = max(max_width, width)\n",
    "#                 max_height = max(max_height, height)\n",
    "\n",
    "# print(f\"The maximum dimensions in the dataset are {max_width}x{max_height}\")\n"
   ]
  },
  {
   "cell_type": "code",
   "execution_count": 11,
   "metadata": {},
   "outputs": [
    {
     "name": "stdout",
     "output_type": "stream",
     "text": [
      "Found 1244 images belonging to 2 classes.\n",
      "Found 310 images belonging to 2 classes.\n"
     ]
    }
   ],
   "source": [
    "# 데이터 불러오기 및 전처리\n",
    "data_gen = ImageDataGenerator(validation_split=0.2, rescale=1./255)\n",
    "train_data = data_gen.flow_from_directory('image', target_size=(150, 150), batch_size=32, class_mode='categorical', subset='training')\n",
    "val_data = data_gen.flow_from_directory('image', target_size=(150, 150), batch_size=32, class_mode='categorical', subset='validation',shuffle=False)\n"
   ]
  },
  {
   "cell_type": "code",
   "execution_count": 12,
   "metadata": {},
   "outputs": [],
   "source": [
    "# CNN 모델 구축\n",
    "model = models.Sequential([\n",
    "    layers.Conv2D(32, (3,3), activation='relu', input_shape=(150, 150, 3)),\n",
    "    layers.MaxPooling2D((2,2)),\n",
    "    layers.Conv2D(64, (3,3), activation='relu'),\n",
    "    layers.MaxPooling2D((2,2)),\n",
    "    layers.Conv2D(128, (3,3), activation='relu'),\n",
    "    layers.MaxPooling2D((2,2)),\n",
    "    layers.Flatten(),\n",
    "    layers.Dense(512, activation='relu'),\n",
    "    layers.Dense(2, activation='softmax')  # 클래스가 2개이므로 출력 유닛은 2개입니다\n",
    "])"
   ]
  },
  {
   "cell_type": "code",
   "execution_count": 13,
   "metadata": {},
   "outputs": [
    {
     "name": "stderr",
     "output_type": "stream",
     "text": [
      "WARNING:absl:At this time, the v2.11+ optimizer `tf.keras.optimizers.Adam` runs slowly on M1/M2 Macs, please use the legacy Keras optimizer instead, located at `tf.keras.optimizers.legacy.Adam`.\n",
      "WARNING:absl:`lr` is deprecated in Keras optimizer, please use `learning_rate` or use the legacy optimizer, e.g.,tf.keras.optimizers.legacy.Adam.\n",
      "WARNING:absl:There is a known slowdown when using v2.11+ Keras optimizers on M1/M2 Macs. Falling back to the legacy Keras optimizer, i.e., `tf.keras.optimizers.legacy.Adam`.\n"
     ]
    }
   ],
   "source": [
    "# 모델 컴파일\n",
    "model.compile(loss='categorical_crossentropy', optimizer=Adam(lr=0.001), metrics=['accuracy'])  # 다중 클래스 분류를 위해 loss를 'categorical_crossentropy'로 설정\n"
   ]
  },
  {
   "cell_type": "code",
   "execution_count": 14,
   "metadata": {},
   "outputs": [
    {
     "name": "stdout",
     "output_type": "stream",
     "text": [
      "Epoch 1/10\n",
      "39/39 [==============================] - 14s 341ms/step - loss: 0.2596 - accuracy: 0.9068 - val_loss: 6.5189e-06 - val_accuracy: 1.0000\n",
      "Epoch 2/10\n",
      "39/39 [==============================] - 13s 336ms/step - loss: 0.1151 - accuracy: 0.9759 - val_loss: 0.0023 - val_accuracy: 1.0000\n",
      "Epoch 3/10\n",
      "39/39 [==============================] - 13s 335ms/step - loss: 0.0019 - accuracy: 0.9992 - val_loss: 3.2804e-04 - val_accuracy: 1.0000\n",
      "Epoch 4/10\n",
      "39/39 [==============================] - 13s 335ms/step - loss: 2.5168e-04 - accuracy: 1.0000 - val_loss: 1.9356e-05 - val_accuracy: 1.0000\n",
      "Epoch 5/10\n",
      "39/39 [==============================] - 13s 335ms/step - loss: 5.2324e-05 - accuracy: 1.0000 - val_loss: 2.1237e-05 - val_accuracy: 1.0000\n",
      "Epoch 6/10\n",
      "39/39 [==============================] - 13s 333ms/step - loss: 1.3705e-05 - accuracy: 1.0000 - val_loss: 1.8439e-05 - val_accuracy: 1.0000\n",
      "Epoch 7/10\n",
      "39/39 [==============================] - 14s 359ms/step - loss: 1.0542e-05 - accuracy: 1.0000 - val_loss: 1.4402e-05 - val_accuracy: 1.0000\n",
      "Epoch 8/10\n",
      "39/39 [==============================] - 14s 367ms/step - loss: 8.3047e-06 - accuracy: 1.0000 - val_loss: 1.2279e-05 - val_accuracy: 1.0000\n",
      "Epoch 9/10\n",
      "39/39 [==============================] - 13s 340ms/step - loss: 6.8348e-06 - accuracy: 1.0000 - val_loss: 1.0296e-05 - val_accuracy: 1.0000\n",
      "Epoch 10/10\n",
      "39/39 [==============================] - 13s 335ms/step - loss: 5.6485e-06 - accuracy: 1.0000 - val_loss: 8.9613e-06 - val_accuracy: 1.0000\n"
     ]
    },
    {
     "data": {
      "text/plain": [
       "<keras.src.callbacks.History at 0x29248fc10>"
      ]
     },
     "execution_count": 14,
     "metadata": {},
     "output_type": "execute_result"
    }
   ],
   "source": [
    "# 모델 훈련\n",
    "model.fit(train_data, validation_data=val_data, epochs=10)"
   ]
  },
  {
   "cell_type": "code",
   "execution_count": 7,
   "metadata": {},
   "outputs": [
    {
     "name": "stdout",
     "output_type": "stream",
     "text": [
      "10/10 [==============================] - 2s 166ms/step - loss: 7.7601e-07 - accuracy: 1.0000\n",
      "Test accuracy: 1.0\n"
     ]
    }
   ],
   "source": [
    "# 모델 평가\n",
    "loss, acc = model.evaluate(val_data)\n",
    "print(f'Test accuracy: {acc}')"
   ]
  },
  {
   "cell_type": "code",
   "execution_count": 8,
   "metadata": {},
   "outputs": [
    {
     "name": "stdout",
     "output_type": "stream",
     "text": [
      "10/10 [==============================] - 2s 160ms/step\n"
     ]
    },
    {
     "data": {
      "image/png": "[encoded data removed]",
      "text/plain": [
       "<Figure size 800x600 with 2 Axes>"
      ]
     },
     "metadata": {},
     "output_type": "display_data"
    },
    {
     "name": "stdout",
     "output_type": "stream",
     "text": [
      "              precision    recall  f1-score   support\n",
      "\n",
      "       plank       0.09      0.09      0.09        53\n",
      "       squat       0.81      0.81      0.81       257\n",
      "\n",
      "    accuracy                           0.69       310\n",
      "   macro avg       0.45      0.45      0.45       310\n",
      "weighted avg       0.69      0.69      0.69       310\n",
      "\n"
     ]
    }
   ],
   "source": [
    "# 검증 데이터셋에서 라벨을 얻습니다\n",
    "true_labels = val_data.classes\n",
    "\n",
    "# 검증 데이터셋에서 예측을 수행합니다\n",
    "predictions = model.predict(val_data)\n",
    "pred_labels = np.argmax(predictions, axis=1)\n",
    "\n",
    "# Confusion Matrix를 생성합니다\n",
    "conf_mat = confusion_matrix(true_labels, pred_labels)\n",
    "\n",
    "# Confusion Matrix를 시각화합니다\n",
    "plt.figure(figsize=(8, 6))\n",
    "sns.heatmap(conf_mat, annot=True, fmt='d', cmap='Blues', xticklabels=val_data.class_indices, yticklabels=val_data.class_indices)\n",
    "plt.xlabel('Predicted')\n",
    "plt.ylabel('True')\n",
    "plt.show()\n",
    "\n",
    "# Classification Report를 생성합니다\n",
    "print(classification_report(true_labels, pred_labels, target_names=val_data.class_indices))\n"
   ]
  },
  {
   "cell_type": "code",
   "execution_count": 9,
   "metadata": {},
   "outputs": [
    {
     "name": "stdout",
     "output_type": "stream",
     "text": [
      "10/10 [==============================] - 2s 165ms/step\n"
     ]
    },
    {
     "data": {
      "image/png": "[encoded data removed]",
      "text/plain": [
       "<Figure size 800x600 with 2 Axes>"
      ]
     },
     "metadata": {},
     "output_type": "display_data"
    },
    {
     "name": "stdout",
     "output_type": "stream",
     "text": [
      "Classification Report:\n",
      "              precision    recall  f1-score   support\n",
      "\n",
      "           0       0.17      0.17      0.17        53\n",
      "           1       0.83      0.83      0.83       257\n",
      "\n",
      "    accuracy                           0.72       310\n",
      "   macro avg       0.50      0.50      0.50       310\n",
      "weighted avg       0.72      0.72      0.72       310\n",
      "\n"
     ]
    }
   ],
   "source": [
    "from sklearn.metrics import confusion_matrix, classification_report\n",
    "import numpy as np\n",
    "import seaborn as sns\n",
    "import matplotlib.pyplot as plt\n",
    "\n",
    "# 검증 데이터 세트에서 true labels와 predicted labels를 가져옵니다.\n",
    "y_true = val_data.classes\n",
    "y_pred = np.argmax(model.predict(val_data), axis=-1)\n",
    "\n",
    "# Confusion matrix와 classification report를 생성합니다.\n",
    "conf_mat = confusion_matrix(y_true, y_pred)\n",
    "class_report = classification_report(y_true, y_pred)\n",
    "\n",
    "# Confusion matrix를 heatmap으로 시각화합니다.\n",
    "plt.figure(figsize=(8, 6))\n",
    "sns.heatmap(conf_mat, annot=True, fmt='d', cmap='Blues')\n",
    "plt.xlabel('Predicted labels')\n",
    "plt.ylabel('True labels')\n",
    "plt.show()\n",
    "\n",
    "# Classification report를 출력합니다.\n",
    "print('Classification Report:')\n",
    "print(class_report)\n"
   ]
  },
  {
   "cell_type": "code",
   "execution_count": null,
   "metadata": {},
   "outputs": [],
   "source": []
  }
 ],
 "metadata": {
  "kernelspec": {
   "display_name": "DL",
   "language": "python",
   "name": "python3"
  },
  "language_info": {
   "codemirror_mode": {
    "name": "ipython",
    "version": 3
   },
   "file_extension": ".py",
   "mimetype": "text/x-python",
   "name": "python",
   "nbconvert_exporter": "python",
   "pygments_lexer": "ipython3",
   "version": "3.10.12"
  },
  "orig_nbformat": 4
 },
 "nbformat": 4,
 "nbformat_minor": 2
}
