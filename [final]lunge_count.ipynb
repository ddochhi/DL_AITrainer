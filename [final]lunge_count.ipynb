{
 "cells": [
  {
   "cell_type": "markdown",
   "metadata": {},
   "source": [
    "# 1. Install Package"
   ]
  },
  {
   "cell_type": "code",
   "execution_count": 1,
   "metadata": {},
   "outputs": [
    {
     "name": "stdout",
     "output_type": "stream",
     "text": [
      "Requirement already satisfied: mediapipe in /Users/gwon-yeonghyeon/anaconda3/envs/DL/lib/python3.10/site-packages (0.10.3)\n",
      "Requirement already satisfied: opencv-python in /Users/gwon-yeonghyeon/anaconda3/envs/DL/lib/python3.10/site-packages (4.8.0.76)\n",
      "Requirement already satisfied: absl-py in /Users/gwon-yeonghyeon/anaconda3/envs/DL/lib/python3.10/site-packages (from mediapipe) (1.4.0)\n",
      "Requirement already satisfied: attrs>=19.1.0 in /Users/gwon-yeonghyeon/anaconda3/envs/DL/lib/python3.10/site-packages (from mediapipe) (23.1.0)\n",
      "Requirement already satisfied: flatbuffers>=2.0 in /Users/gwon-yeonghyeon/anaconda3/envs/DL/lib/python3.10/site-packages (from mediapipe) (23.5.26)\n",
      "Requirement already satisfied: matplotlib in /Users/gwon-yeonghyeon/anaconda3/envs/DL/lib/python3.10/site-packages (from mediapipe) (3.7.2)\n",
      "Requirement already satisfied: numpy in /Users/gwon-yeonghyeon/anaconda3/envs/DL/lib/python3.10/site-packages (from mediapipe) (1.25.2)\n",
      "Requirement already satisfied: opencv-contrib-python in /Users/gwon-yeonghyeon/anaconda3/envs/DL/lib/python3.10/site-packages (from mediapipe) (4.8.0.76)\n",
      "Requirement already satisfied: protobuf<4,>=3.11 in /Users/gwon-yeonghyeon/anaconda3/envs/DL/lib/python3.10/site-packages (from mediapipe) (3.20.3)\n",
      "Requirement already satisfied: sounddevice>=0.4.4 in /Users/gwon-yeonghyeon/anaconda3/envs/DL/lib/python3.10/site-packages (from mediapipe) (0.4.6)\n",
      "Requirement already satisfied: CFFI>=1.0 in /Users/gwon-yeonghyeon/anaconda3/envs/DL/lib/python3.10/site-packages (from sounddevice>=0.4.4->mediapipe) (1.15.1)\n",
      "Requirement already satisfied: contourpy>=1.0.1 in /Users/gwon-yeonghyeon/anaconda3/envs/DL/lib/python3.10/site-packages (from matplotlib->mediapipe) (1.1.0)\n",
      "Requirement already satisfied: cycler>=0.10 in /Users/gwon-yeonghyeon/anaconda3/envs/DL/lib/python3.10/site-packages (from matplotlib->mediapipe) (0.11.0)\n",
      "Requirement already satisfied: fonttools>=4.22.0 in /Users/gwon-yeonghyeon/anaconda3/envs/DL/lib/python3.10/site-packages (from matplotlib->mediapipe) (4.42.1)\n",
      "Requirement already satisfied: kiwisolver>=1.0.1 in /Users/gwon-yeonghyeon/anaconda3/envs/DL/lib/python3.10/site-packages (from matplotlib->mediapipe) (1.4.5)\n",
      "Requirement already satisfied: packaging>=20.0 in /Users/gwon-yeonghyeon/anaconda3/envs/DL/lib/python3.10/site-packages (from matplotlib->mediapipe) (23.1)\n",
      "Requirement already satisfied: pillow>=6.2.0 in /Users/gwon-yeonghyeon/anaconda3/envs/DL/lib/python3.10/site-packages (from matplotlib->mediapipe) (10.0.0)\n",
      "Requirement already satisfied: pyparsing<3.1,>=2.3.1 in /Users/gwon-yeonghyeon/anaconda3/envs/DL/lib/python3.10/site-packages (from matplotlib->mediapipe) (3.0.9)\n",
      "Requirement already satisfied: python-dateutil>=2.7 in /Users/gwon-yeonghyeon/anaconda3/envs/DL/lib/python3.10/site-packages (from matplotlib->mediapipe) (2.8.2)\n",
      "Requirement already satisfied: pycparser in /Users/gwon-yeonghyeon/anaconda3/envs/DL/lib/python3.10/site-packages (from CFFI>=1.0->sounddevice>=0.4.4->mediapipe) (2.21)\n",
      "Requirement already satisfied: six>=1.5 in /Users/gwon-yeonghyeon/anaconda3/envs/DL/lib/python3.10/site-packages (from python-dateutil>=2.7->matplotlib->mediapipe) (1.16.0)\n"
     ]
    }
   ],
   "source": [
    "!pip install mediapipe opencv-python"
   ]
  },
  {
   "cell_type": "markdown",
   "metadata": {},
   "source": [
    "# 2. Import Package"
   ]
  },
  {
   "cell_type": "code",
   "execution_count": 1,
   "metadata": {},
   "outputs": [],
   "source": [
    "import cv2 # openCV 라이브러리 \n",
    "import mediapipe as mp\n",
    "import numpy as np"
   ]
  },
  {
   "cell_type": "markdown",
   "metadata": {},
   "source": [
    "# 3. Calculate Angle"
   ]
  },
  {
   "cell_type": "code",
   "execution_count": 3,
   "metadata": {},
   "outputs": [],
   "source": [
    "# def calculate_angle(a,b,c):\n",
    "#     a = np.array(a) # First\n",
    "#     b = np.array(b) # Mid\n",
    "#     c = np.array(c) # End\n",
    "    \n",
    "#     radians = np.arctan2(c[1]-b[1], c[0]-b[0]) - np.arctan2(a[1]-b[1], a[0]-b[0]) # 두 벡터 사이의 각도 구하기\n",
    "#     angle = np.abs(radians*180.0/np.pi) # 라디안을 각도로 변환\n",
    "    \n",
    "#     if angle >180.0: # 각도가 180보다 크면 보정 / 팔은 360도 회전 x\n",
    "#         angle = 360-angle\n",
    "        \n",
    "#     return angle "
   ]
  },
  {
   "cell_type": "code",
   "execution_count": 2,
   "metadata": {},
   "outputs": [],
   "source": [
    "def calculate_angle_3d(a, b, c):\n",
    "    a = np.array(a)  # First\n",
    "    b = np.array(b)  # Mid\n",
    "    c = np.array(c)  # End\n",
    "\n",
    "    # Calculate the vectors from b to a and b to c\n",
    "    vector1 = a - b\n",
    "    vector2 = c - b\n",
    "\n",
    "    # Calculate the dot product and the magnitudes of the vectors\n",
    "    dot_product = np.dot(vector1, vector2)\n",
    "    magnitude1 = np.linalg.norm(vector1)\n",
    "    magnitude2 = np.linalg.norm(vector2)\n",
    "\n",
    "    # Calculate the cosine of the angle between the vectors\n",
    "    cosine_theta = dot_product / (magnitude1 * magnitude2)\n",
    "\n",
    "    # Calculate the angle in radians\n",
    "    radians = np.arccos(np.clip(cosine_theta, -1.0, 1.0))\n",
    "\n",
    "    # Convert radians to degrees\n",
    "    angle = np.degrees(radians)\n",
    "\n",
    "    return angle"
   ]
  },
  {
   "cell_type": "code",
   "execution_count": 13,
   "metadata": {},
   "outputs": [
    {
     "ename": "KeyboardInterrupt",
     "evalue": "",
     "output_type": "error",
     "traceback": [
      "\u001b[0;31m---------------------------------------------------------------------------\u001b[0m",
      "\u001b[0;31mKeyboardInterrupt\u001b[0m                         Traceback (most recent call last)",
      "Cell \u001b[0;32mIn[13], line 19\u001b[0m\n\u001b[1;32m     17\u001b[0m \u001b[39mwith\u001b[39;00m mp_pose\u001b[39m.\u001b[39mPose(min_detection_confidence\u001b[39m=\u001b[39m\u001b[39m0.5\u001b[39m, min_tracking_confidence\u001b[39m=\u001b[39m\u001b[39m0.5\u001b[39m) \u001b[39mas\u001b[39;00m pose:\n\u001b[1;32m     18\u001b[0m     \u001b[39mwhile\u001b[39;00m cap\u001b[39m.\u001b[39misOpened():\n\u001b[0;32m---> 19\u001b[0m         ret, frame \u001b[39m=\u001b[39m cap\u001b[39m.\u001b[39;49mread()\n\u001b[1;32m     21\u001b[0m         \u001b[39mif\u001b[39;00m \u001b[39mnot\u001b[39;00m ret:\n\u001b[1;32m     22\u001b[0m             \u001b[39mcontinue\u001b[39;00m\n",
      "\u001b[0;31mKeyboardInterrupt\u001b[0m: "
     ]
    }
   ],
   "source": [
    "import numpy as np\n",
    "import cv2\n",
    "import mediapipe as mp\n",
    "\n",
    "mp_drawing = mp.solutions.drawing_utils\n",
    "mp_pose = mp.solutions.pose\n",
    "\n",
    "cap = cv2.VideoCapture(\"mp4/lunge.mp4\")\n",
    "\n",
    "count = 0\n",
    "stage = None\n",
    "left_stage = None\n",
    "right_stage = None\n",
    "\n",
    "with mp_pose.Pose(min_detection_confidence=0.5, min_tracking_confidence=0.5) as pose:\n",
    "    while cap.isOpened():\n",
    "        ret, frame = cap.read()\n",
    "        \n",
    "        if not ret:\n",
    "            continue\n",
    "        \n",
    "        image = cv2.cvtColor(frame, cv2.COLOR_BGR2RGB)\n",
    "        image.flags.writeable = False\n",
    "      \n",
    "        results = pose.process(image)\n",
    "    \n",
    "        image.flags.writeable = True\n",
    "        image = cv2.cvtColor(image, cv2.COLOR_RGB2BGR)\n",
    "        \n",
    "        try:\n",
    "            landmarks = results.pose_landmarks.landmark\n",
    "            \n",
    "            left_shoulder = [landmarks[mp_pose.PoseLandmark.LEFT_SHOULDER.value].x, landmarks[mp_pose.PoseLandmark.LEFT_SHOULDER.value].y, landmarks[mp_pose.PoseLandmark.LEFT_SHOULDER.value].z]\n",
    "            left_hip = [landmarks[mp_pose.PoseLandmark.LEFT_HIP.value].x, landmarks[mp_pose.PoseLandmark.LEFT_HIP.value].y, landmarks[mp_pose.PoseLandmark.LEFT_HIP.value].z]\n",
    "            left_knee = [landmarks[mp_pose.PoseLandmark.LEFT_KNEE.value].x, landmarks[mp_pose.PoseLandmark.LEFT_KNEE.value].y, landmarks[mp_pose.PoseLandmark.LEFT_KNEE.value].z]\n",
    "            left_ankle = [landmarks[mp_pose.PoseLandmark.LEFT_ANKLE.value].x, landmarks[mp_pose.PoseLandmark.LEFT_ANKLE.value].y, landmarks[mp_pose.PoseLandmark.LEFT_ANKLE.value].z]\n",
    "\n",
    "            right_shoulder = [landmarks[mp_pose.PoseLandmark.RIGHT_SHOULDER.value].x, landmarks[mp_pose.PoseLandmark.RIGHT_SHOULDER.value].y, landmarks[mp_pose.PoseLandmark.RIGHT_SHOULDER.value].z]\n",
    "            right_hip = [landmarks[mp_pose.PoseLandmark.RIGHT_HIP.value].x, landmarks[mp_pose.PoseLandmark.RIGHT_HIP.value].y, landmarks[mp_pose.PoseLandmark.RIGHT_HIP.value].z]\n",
    "            right_knee = [landmarks[mp_pose.PoseLandmark.RIGHT_KNEE.value].x, landmarks[mp_pose.PoseLandmark.RIGHT_KNEE.value].y, landmarks[mp_pose.PoseLandmark.RIGHT_KNEE.value].z]\n",
    "            right_ankle = [landmarks[mp_pose.PoseLandmark.RIGHT_ANKLE.value].x, landmarks[mp_pose.PoseLandmark.RIGHT_ANKLE.value].y, landmarks[mp_pose.PoseLandmark.RIGHT_ANKLE.value].z]\n",
    "            \n",
    "            left_angle = calculate_angle_3d(left_hip, left_knee, left_ankle)\n",
    "            right_angle = calculate_angle_3d(right_hip, right_knee, right_ankle)\n",
    "            \n",
    "            # 이미지에 계산된 각도 시각화\n",
    "            cv2.putText(image, f\"Left Angle: {left_angle:.2f}\", \n",
    "                (int(left_shoulder[0] * image.shape[1]), int(left_shoulder[1] * image.shape[0])),\n",
    "                cv2.FONT_HERSHEY_SIMPLEX, 0.5, (0, 0, 0), 2, cv2.LINE_AA)\n",
    "\n",
    "            # cv2.putText(image, f\"Right Angle: {right_angle:.2f}\", \n",
    "            #     (int(right_shoulder[0] * image.shape[1]), int(right_shoulder[1] * image.shape[0])),\n",
    "            #     cv2.FONT_HERSHEY_SIMPLEX, 0.5, (255, 255, 255), 2, cv2.LINE_AA)\n",
    "\n",
    "            \n",
    "            if left_angle > 140:\n",
    "                left_stage = \"up\"\n",
    "            if left_angle < 110 and left_stage =='up':\n",
    "                left_stage=\"down\"\n",
    "                count += 1\n",
    "\n",
    "            # if right_angle > 160:\n",
    "            #     right_stage = \"up\"\n",
    "            # if right_angle < 100 and right_stage =='up':\n",
    "            #     right_stage=\"down\"\n",
    "            #     count += 1\n",
    "                       \n",
    "        except:\n",
    "            pass\n",
    "        \n",
    "        cv2.rectangle(image, (0, 0), (225, 73), (245, 117, 16), -1)      \n",
    "        \n",
    "        cv2.putText(image, str(count), \n",
    "                    (10, 60), \n",
    "                    cv2.FONT_HERSHEY_SIMPLEX, 2, (255, 255, 255), 2, cv2.LINE_AA)  \n",
    "        \n",
    "        cv2.putText(image, left_stage, \n",
    "                    (60, 60), \n",
    "                    cv2.FONT_HERSHEY_SIMPLEX, 2, (255, 255, 255), 2, cv2.LINE_AA) \n",
    "        \n",
    "        cv2.putText(image, right_stage, \n",
    "                    (60, 120), \n",
    "                    cv2.FONT_HERSHEY_SIMPLEX, 2, (255, 255, 255), 2, cv2.LINE_AA)  \n",
    "        \n",
    "        mp_drawing.draw_landmarks(image, results.pose_landmarks, mp_pose.POSE_CONNECTIONS,\n",
    "                                mp_drawing.DrawingSpec(color=(245, 117, 66), thickness=2, circle_radius=2), \n",
    "                                mp_drawing.DrawingSpec(color=(245, 66, 230), thickness=2, circle_radius=2) \n",
    "                                 )               \n",
    "        \n",
    "        cv2.imshow('Mediapipe Feed', image)\n",
    "\n",
    "        if cv2.waitKey(10) & 0xFF == ord('q'):\n",
    "            break\n",
    "\n",
    "    cap.release()\n",
    "    cv2.destroyAllWindows()\n"
   ]
  },
  {
   "cell_type": "code",
   "execution_count": null,
   "metadata": {},
   "outputs": [],
   "source": []
  }
 ],
 "metadata": {
  "kernelspec": {
   "display_name": "DL",
   "language": "python",
   "name": "python3"
  },
  "language_info": {
   "codemirror_mode": {
    "name": "ipython",
    "version": 3
   },
   "file_extension": ".py",
   "mimetype": "text/x-python",
   "name": "python",
   "nbconvert_exporter": "python",
   "pygments_lexer": "ipython3",
   "version": "3.10.12"
  },
  "orig_nbformat": 4
 },
 "nbformat": 4,
 "nbformat_minor": 2
}
