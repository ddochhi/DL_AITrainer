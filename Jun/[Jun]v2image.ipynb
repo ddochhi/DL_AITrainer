{
 "cells": [
  {
   "cell_type": "code",
   "execution_count": 3,
   "metadata": {},
   "outputs": [
    {
     "name": "stdout",
     "output_type": "stream",
     "text": [
      "Original frame rate of the video: 29 FPS\n",
      "1209 frames extracted and saved to test/ at 10 FPS\n"
     ]
    }
   ],
   "source": [
    "import cv2\n",
    "import os\n",
    "\n",
    "# Input video file path\n",
    "video_path = '/Users/jun1/Library/CloudStorage/OneDrive-Personal/Jun/핀테크/기계학습과딥러닝_이재욱/Squats-angle-detection-using-OpenCV-and-mediapipe_v1-main/Bicep Curl/b1/b1_bicepcurl_3.mp4'\n",
    "\n",
    "# Output folder to save frames as PNG files\n",
    "output_folder = 'test/'\n",
    "\n",
    "# Desired frame rate (10 FPS)\n",
    "desired_fps = 10\n",
    "\n",
    "# Create the output folder if it doesn't exist\n",
    "os.makedirs(output_folder, exist_ok=True)\n",
    "\n",
    "# Open the video file\n",
    "cap = cv2.VideoCapture(video_path)\n",
    "\n",
    "# Get the original frame rate of the video\n",
    "original_fps = int(cap.get(cv2.CAP_PROP_FPS))\n",
    "print(f'Original frame rate of the video: {original_fps} FPS')\n",
    "\n",
    "# Calculate the frame interval to achieve the desired frame rate\n",
    "frame_interval = int(original_fps / desired_fps)\n",
    "\n",
    "# Initialize frame count\n",
    "frame_count = 0\n",
    "\n",
    "while True:\n",
    "    # Read a frame from the video\n",
    "    ret, frame = cap.read()\n",
    "\n",
    "    # Break the loop if we have reached the end of the video\n",
    "    if not ret:\n",
    "        break\n",
    "\n",
    "    # Only save frames at the desired frame rate\n",
    "    if frame_count % frame_interval == 0:\n",
    "        # Define the path to save the frame as a PNG file\n",
    "        frame_path = os.path.join(output_folder, f'frame_{frame_count:04d}.png')\n",
    "\n",
    "        # Save the frame as a PNG file\n",
    "        cv2.imwrite(frame_path, frame)\n",
    "\n",
    "    # Increment the frame count\n",
    "    frame_count += 1\n",
    "\n",
    "# Release the video capture object\n",
    "cap.release()\n",
    "\n",
    "print(f'{frame_count} frames extracted and saved to {output_folder} at {desired_fps} FPS')\n"
   ]
  }
 ],
 "metadata": {
  "kernelspec": {
   "display_name": "Python 3",
   "language": "python",
   "name": "python3"
  },
  "language_info": {
   "codemirror_mode": {
    "name": "ipython",
    "version": 3
   },
   "file_extension": ".py",
   "mimetype": "text/x-python",
   "name": "python",
   "nbconvert_exporter": "python",
   "pygments_lexer": "ipython3",
   "version": "3.8.17"
  },
  "orig_nbformat": 4
 },
 "nbformat": 4,
 "nbformat_minor": 2
}
