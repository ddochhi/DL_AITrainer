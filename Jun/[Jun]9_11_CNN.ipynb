{
 "cells": [
  {
   "cell_type": "code",
   "execution_count": 2,
   "metadata": {},
   "outputs": [],
   "source": [
    "import numpy as np\n",
    "import os\n",
    "import cv2\n",
    "import tensorflow as tf\n",
    "from tensorflow.keras.models import Sequential\n",
    "from tensorflow.keras.layers import Conv2D, MaxPooling2D, Flatten, Dense, Dropout\n",
    "from sklearn.model_selection import train_test_split\n"
   ]
  },
  {
   "cell_type": "code",
   "execution_count": 3,
   "metadata": {},
   "outputs": [],
   "source": [
    "def load_data_from_folder(folder, label):\n",
    "    images = []\n",
    "    labels = []\n",
    "    for filename in os.listdir(folder):\n",
    "        img = cv2.imread(os.path.join(folder, filename))\n",
    "        if img is not None:\n",
    "            img = cv2.resize(img, (150, 150))  # Resize to consistent size\n",
    "            images.append(img)\n",
    "            labels.append(label)\n",
    "    return images, labels\n",
    "\n",
    "squat_images, squat_labels = load_data_from_folder('squat', 0)\n",
    "plank_images, plank_labels = load_data_from_folder('plank', 1)\n",
    "bicep_images, bicep_labels = load_data_from_folder('bicep', 2)\n",
    "\n",
    "X = np.array(squat_images + plank_images+ bicep_images)\n",
    "y = np.array(squat_labels + plank_labels+ bicep_labels)\n",
    "\n",
    "# Normalize the data\n",
    "X = X / 255.0\n",
    "\n",
    "# Split the data into training and testing sets\n",
    "X_train, X_test, y_train, y_test = train_test_split(X, y, test_size=0.2, random_state=42)\n"
   ]
  },
  {
   "cell_type": "code",
   "execution_count": 4,
   "metadata": {},
   "outputs": [],
   "source": [
    "model = Sequential()\n",
    "\n",
    "# First convolution layer\n",
    "model.add(Conv2D(32, (3, 3), activation='relu', input_shape=(150, 150, 3)))\n",
    "model.add(MaxPooling2D(pool_size=(2, 2)))\n",
    "\n",
    "# Second convolution layer\n",
    "model.add(Conv2D(64, (3, 3), activation='relu'))\n",
    "model.add(MaxPooling2D(pool_size=(2, 2)))\n",
    "\n",
    "# Third convolution layer\n",
    "model.add(Conv2D(128, (3, 3), activation='relu'))\n",
    "model.add(MaxPooling2D(pool_size=(2, 2)))\n",
    "\n",
    "# Flatten the layers\n",
    "model.add(Flatten())\n",
    "\n",
    "# Dense layers\n",
    "model.add(Dense(512, activation='relu'))\n",
    "model.add(Dropout(0.5))\n",
    "model.add(Dense(1, activation='sigmoid'))\n",
    "\n",
    "# Compile the model\n",
    "model.compile(optimizer='adam', loss='binary_crossentropy', metrics=['accuracy'])\n"
   ]
  },
  {
   "cell_type": "code",
   "execution_count": 5,
   "metadata": {},
   "outputs": [
    {
     "name": "stdout",
     "output_type": "stream",
     "text": [
      "Epoch 1/10\n",
      "55/55 [==============================] - 15s 263ms/step - loss: -82887.7969 - accuracy: 0.4403 - val_loss: -760475.0625 - val_accuracy: 0.6250\n",
      "Epoch 2/10\n",
      "55/55 [==============================] - 15s 266ms/step - loss: -21666864.0000 - accuracy: 0.4472 - val_loss: -90704168.0000 - val_accuracy: 0.6045\n",
      "Epoch 3/10\n",
      "55/55 [==============================] - 14s 260ms/step - loss: -534165568.0000 - accuracy: 0.4682 - val_loss: -1504566272.0000 - val_accuracy: 0.2909\n",
      "Epoch 4/10\n",
      "55/55 [==============================] - 14s 256ms/step - loss: -4313002496.0000 - accuracy: 0.4580 - val_loss: -9887787008.0000 - val_accuracy: 0.4795\n",
      "Epoch 5/10\n",
      "55/55 [==============================] - 15s 265ms/step - loss: -20766418944.0000 - accuracy: 0.4699 - val_loss: -39834583040.0000 - val_accuracy: 0.3227\n",
      "Epoch 6/10\n",
      "55/55 [==============================] - 14s 263ms/step - loss: -70390104064.0000 - accuracy: 0.4642 - val_loss: -121204326400.0000 - val_accuracy: 0.4227\n",
      "Epoch 7/10\n",
      "55/55 [==============================] - 14s 263ms/step - loss: -192226246656.0000 - accuracy: 0.4682 - val_loss: -299810947072.0000 - val_accuracy: 0.2909\n",
      "Epoch 8/10\n",
      "55/55 [==============================] - 15s 273ms/step - loss: -434977472512.0000 - accuracy: 0.4648 - val_loss: -653073776640.0000 - val_accuracy: 0.3909\n",
      "Epoch 9/10\n",
      "55/55 [==============================] - 15s 268ms/step - loss: -891329576960.0000 - accuracy: 0.4739 - val_loss: -1272564678656.0000 - val_accuracy: 0.4591\n",
      "Epoch 10/10\n",
      "55/55 [==============================] - 15s 271ms/step - loss: -1655376838656.0000 - accuracy: 0.4693 - val_loss: -2289580900352.0000 - val_accuracy: 0.3205\n"
     ]
    },
    {
     "data": {
      "text/plain": [
       "<keras.src.callbacks.History at 0x29b927340>"
      ]
     },
     "execution_count": 5,
     "metadata": {},
     "output_type": "execute_result"
    }
   ],
   "source": [
    "model.fit(X_train, y_train, epochs=10, batch_size=32, validation_data=(X_test, y_test))\n"
   ]
  },
  {
   "cell_type": "code",
   "execution_count": 6,
   "metadata": {},
   "outputs": [
    {
     "name": "stdout",
     "output_type": "stream",
     "text": [
      "14/14 [==============================] - 1s 72ms/step - loss: -2289580900352.0000 - accuracy: 0.3205\n",
      "Test Accuracy: 32.05%\n"
     ]
    }
   ],
   "source": [
    "loss, accuracy = model.evaluate(X_test, y_test)\n",
    "print(f\"Test Accuracy: {accuracy * 100:.2f}%\")\n"
   ]
  },
  {
   "cell_type": "code",
   "execution_count": 7,
   "metadata": {},
   "outputs": [
    {
     "name": "stderr",
     "output_type": "stream",
     "text": [
      "/Users/jun1/Library/CloudStorage/OneDrive-Personal/Jun/핀테크/Deep_learning_example/.conda/lib/python3.8/site-packages/keras/src/engine/training.py:3000: UserWarning: You are saving your model as an HDF5 file via `model.save()`. This file format is considered legacy. We recommend using instead the native Keras format, e.g. `model.save('my_model.keras')`.\n",
      "  saving_api.save_model(\n"
     ]
    }
   ],
   "source": [
    "model.save('squat_vs_plank_model.h5')\n"
   ]
  }
 ],
 "metadata": {
  "kernelspec": {
   "display_name": "Python 3",
   "language": "python",
   "name": "python3"
  },
  "language_info": {
   "codemirror_mode": {
    "name": "ipython",
    "version": 3
   },
   "file_extension": ".py",
   "mimetype": "text/x-python",
   "name": "python",
   "nbconvert_exporter": "python",
   "pygments_lexer": "ipython3",
   "version": "3.8.17"
  },
  "orig_nbformat": 4
 },
 "nbformat": 4,
 "nbformat_minor": 2
}
